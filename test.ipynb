{
 "cells": [
  {
   "cell_type": "code",
   "execution_count": 2,
   "metadata": {},
   "outputs": [
    {
     "name": "stdout",
     "output_type": "stream",
     "text": [
      "{'best_epoch': 10, 'best_val_loss': 105.99294799804687, 'train_loss_history': [180.17695914713542, 128.63214624023436, 118.16887361653646, 113.8268062133789, 111.33931070963541, 109.59268951416016, 108.16424542236328, 107.1116293741862, 106.25510911051433, 105.4634253540039], 'val_loss_history': [139.36502172851561, 121.37450545247395, 115.40924715169271, 112.5594765625, 110.28018473307291, 109.02634407552084, 107.9010068359375, 106.97639453125, 106.38581070963542, 105.99294799804687]}\n"
     ]
    }
   ],
   "source": [
    "import pickle\n",
    "\n",
    "with open('/Users/ljm/Documents/Python/VAE/loss/VAE_MNIST_10epochs.pkl', 'rb') as f:\n",
    "    data = pickle.load(f)\n",
    "\n",
    "print(data)"
   ]
  }
 ],
 "metadata": {
  "kernelspec": {
   "display_name": "main",
   "language": "python",
   "name": "python3"
  },
  "language_info": {
   "codemirror_mode": {
    "name": "ipython",
    "version": 3
   },
   "file_extension": ".py",
   "mimetype": "text/x-python",
   "name": "python",
   "nbconvert_exporter": "python",
   "pygments_lexer": "ipython3",
   "version": "3.8.10"
  }
 },
 "nbformat": 4,
 "nbformat_minor": 2
}
